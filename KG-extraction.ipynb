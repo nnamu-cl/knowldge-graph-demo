{
 "cells": [
  {
   "cell_type": "code",
   "execution_count": 9,
   "metadata": {},
   "outputs": [
    {
     "name": "stdout",
     "output_type": "stream",
     "text": [
      "Note: you may need to restart the kernel to use updated packages.\n"
     ]
    }
   ],
   "source": [
    "%pip install -q langchain-core langchain-community langchain-text-splitters pydantic"
   ]
  },
  {
   "cell_type": "markdown",
   "metadata": {},
   "source": [
    "# Knowledge Graph Extraction\n",
    "\n",
    "Using LangChain to create graph components:\n",
    "\n",
    "- **Node**: Entities in our graph\n",
    "- **Relationship**: Connections between nodes\n",
    "- **GraphDocument**: Stores the graph structure\n",
    "\n",
    "Docs: [LangChain GraphDocument](https://python.langchain.com/api_reference/community/graphs/langchain_community.graphs.graph_document.GraphDocument.html)\n",
    "\n"
   ]
  },
  {
   "cell_type": "code",
   "execution_count": 10,
   "metadata": {},
   "outputs": [],
   "source": [
    "# Import things here\n",
    "\n",
    "from langchain_text_splitters import TokenTextSplitter\n",
    "from typing import List, Optional\n",
    "\n",
    "# We intentionally don't use these langchain types because they are not compatible with the new openai api and we want to be able to use it to generate our graph \n",
    "# from langchain.pydantic_v1 import BaseModel, Field\n",
    "# from langchain_community.graphs.graph_document import (\n",
    "#     Node as BaseNode,\n",
    "#     Relationship as BaseRelationship,\n",
    "#     GraphDocument,\n",
    "# )\n",
    "from openai_interacter import OpenAIChatInterface\n",
    "from pydantic import BaseModel, Field"
   ]
  },
  {
   "cell_type": "code",
   "execution_count": 11,
   "metadata": {},
   "outputs": [],
   "source": [
    "def split_text_into_chunks(text, chunk_size=1000, chunk_overlap=200):\n",
    "    \"\"\"\n",
    "    Splits text into chunks of a fixed token length with a specified overlap.\n",
    "    \n",
    "    Args:\n",
    "        text (str): The text to split into chunks.\n",
    "        chunk_size (int): The size of each chunk in tokens.\n",
    "        chunk_overlap (int): The number of tokens to overlap between chunks.\n",
    "    \n",
    "    Returns:\n",
    "        list: A list of text chunks.\n",
    "    \"\"\"\n",
    "    # Initialize the text splitter with the specified chunk size and overlap\n",
    "    text_splitter = TokenTextSplitter(\n",
    "        chunk_size=chunk_size,\n",
    "        chunk_overlap=chunk_overlap\n",
    "    )\n",
    "    \n",
    "    # Split the text into chunks\n",
    "    chunks = text_splitter.split_text(text)\n",
    "    \n",
    "    return chunks\n",
    "\n"
   ]
  },
  {
   "cell_type": "code",
   "execution_count": 12,
   "metadata": {},
   "outputs": [],
   "source": [
    "class Property(BaseModel):\n",
    "  \"\"\"A single property consisting of key and value\"\"\"\n",
    "  key: str \n",
    "  value: str \n",
    "\n",
    "class Node(BaseModel):\n",
    "    properties: Optional[List[Property]] = Field(\n",
    "        None, description=\"List of node properties\")\n",
    "\n",
    "class Relationship(BaseModel):\n",
    "    properties: Optional[List[Property]] = Field(\n",
    "        None, description=\"List of relationship properties\"\n",
    "    )\n",
    "    \n",
    "        \n",
    "class KnowledgeGraph(BaseModel):\n",
    "    \"\"\"Generate a knowledge graph with entities and relationships.\"\"\"\n",
    "    nodes: List[Node] = Field(\n",
    "        ..., description=\"List of nodes in the knowledge graph\")\n",
    "    rels: List[Relationship] = Field(\n",
    "        ..., description=\"List of relationships in the knowledge graph\"\n",
    "    )"
   ]
  },
  {
   "cell_type": "code",
   "execution_count": 13,
   "metadata": {},
   "outputs": [],
   "source": [
    "def create_extraction_chat(extraction_text: str, allowed_nodes: Optional[List[str]] = None, allowed_relationships: Optional[List[str]] = None):\n",
    "    extraction_chat = OpenAIChatInterface(initial_messages=[{\n",
    "        \"role\": \"developer\", \n",
    "        \"content\": \n",
    "        f\"\"\"\n",
    "            # Knowledge Graph Instructions for GPT-4\n",
    "            ## 1. Overview\n",
    "            You are a top-tier algorithm designed for extracting information in structured formats to build a knowledge graph.\n",
    "            - **Nodes** represent entities and concepts. They're akin to Wikipedia nodes.\n",
    "            - The aim is to achieve simplicity and clarity in the knowledge graph, making it accessible for a vast audience.\n",
    "            ## 2. Labeling Nodes\n",
    "            - **Consistency**: Ensure you use basic or elementary types for node labels.\n",
    "            - For example, when you identify an entity representing a person, always label it as **\"person\"**. Avoid using more specific terms like \"mathematician\" or \"scientist\".\n",
    "            - **Node IDs**: Never utilize integers as node IDs. Node IDs should be names or human-readable identifiers found in the text.\n",
    "            {'- **Allowed Node Labels:**' + \", \".join(allowed_nodes) if allowed_nodes else \"\"}\n",
    "            {'- **Allowed Relationship Types**:' + \", \".join(allowed_relationships) if allowed_relationships else \"\"}\n",
    "            ## 3. Handling Numerical Data and Dates\n",
    "            - Numerical data, like age or other related information, should be incorporated as attributes or properties of the respective nodes.\n",
    "            - **No Separate Nodes for Dates/Numbers**: Do not create separate nodes for dates or numerical values. Always attach them as attributes or properties of nodes.\n",
    "            - **Property Format**: Properties must be in a key-value format.\n",
    "            - **Quotation Marks**: Never use escaped single or double quotes within property values.\n",
    "            - **Naming Convention**: Use camelCase for property keys, e.g., `birthDate`.\n",
    "            ## 4. Coreference Resolution\n",
    "            - **Maintain Entity Consistency**: When extracting entities, it's vital to ensure consistency.\n",
    "            If an entity, such as \"John Doe\", is mentioned multiple times in the text but is referred to by different names or pronouns (e.g., \"Joe\", \"he\"),\n",
    "            always use the most complete identifier for that entity throughout the knowledge graph. In this example, use \"John Doe\" as the entity ID.\n",
    "            Remember, the knowledge graph should be coherent and easily understandable, so maintaining consistency in entity references is crucial.\n",
    "            ## 5. Strict Compliance\n",
    "            Adhere to the rules strictly. Non-compliance will result in termination.\n",
    "        \"\"\"\n",
    "        \n",
    "    }])\n",
    "\n",
    "    extraction_chat.add_message(role=\"user\", content=f\"\"\"\n",
    "\n",
    "Extract the nodes and relationships in the following data: \n",
    "                                {extraction_text}\n",
    "\n",
    "\"\"\")\n",
    "\n",
    "    extraction_chat.enable_structured_output(KnowledgeGraph)\n",
    "    return extraction_chat"
   ]
  },
  {
   "cell_type": "code",
   "execution_count": 14,
   "metadata": {},
   "outputs": [],
   "source": [
    "extraction_chat = create_extraction_chat(\n",
    "    extraction_text=\"\"\"\n",
    "    Albert Einstein was a German-born theoretical physicist who developed the theory of relativity. \n",
    "    He was born in Ulm, Germany in 1879. Einstein is best known for his mass-energy equivalence formula E = mc².\n",
    "    In 1921, he received the Nobel Prize in Physics for his discovery of the law of the photoelectric effect.\n",
    "    Einstein married Mileva Marić in 1903, and they had two sons together before divorcing in 1919.\n",
    "    He later married his cousin Elsa Löwenthal in 1919.\n",
    "    \"\"\"\n",
    ")"
   ]
  },
  {
   "cell_type": "code",
   "execution_count": 15,
   "metadata": {},
   "outputs": [
    {
     "name": "stdout",
     "output_type": "stream",
     "text": [
      "nodes=[Node(properties=[Property(key='birthPlace', value='Ulm, Germany'), Property(key='birthDate', value='1879'), Property(key='field', value='theoretical physics')]), Node(properties=[Property(key='name', value='Mileva Marić')]), Node(properties=[Property(key='name', value='Nobel Prize in Physics'), Property(key='year', value='1921')]), Node(properties=[Property(key='relation', value='photoelectric effect')]), Node(properties=[Property(key='name', value='Elsa Löwenthal')])] rels=[Relationship(properties=[Property(key='relationship', value='developed')]), Relationship(properties=[Property(key='relationshipType', value='mass-energy equivalence formula')]), Relationship(properties=[Property(key='yearMarried', value='1903'), Property(key='numberOfChildren', value='2')]), Relationship(properties=[Property(key='yearDivorced', value='1919')]), Relationship(properties=[Property(key='yearMarried', value='1919')])]\n"
     ]
    }
   ],
   "source": [
    "data = extraction_chat.parse_structured_output()\n",
    "print(data)"
   ]
  },
  {
   "cell_type": "code",
   "execution_count": 16,
   "metadata": {},
   "outputs": [
    {
     "data": {
      "text/plain": [
       "KnowledgeGraph(nodes=[Node(properties=[Property(key='birthPlace', value='Ulm, Germany'), Property(key='birthDate', value='1879'), Property(key='field', value='theoretical physics')]), Node(properties=[Property(key='name', value='Mileva Marić')]), Node(properties=[Property(key='name', value='Nobel Prize in Physics'), Property(key='year', value='1921')]), Node(properties=[Property(key='relation', value='photoelectric effect')]), Node(properties=[Property(key='name', value='Elsa Löwenthal')])], rels=[Relationship(properties=[Property(key='relationship', value='developed')]), Relationship(properties=[Property(key='relationshipType', value='mass-energy equivalence formula')]), Relationship(properties=[Property(key='yearMarried', value='1903'), Property(key='numberOfChildren', value='2')]), Relationship(properties=[Property(key='yearDivorced', value='1919')]), Relationship(properties=[Property(key='yearMarried', value='1919')])])"
      ]
     },
     "execution_count": 16,
     "metadata": {},
     "output_type": "execute_result"
    }
   ],
   "source": [
    "data"
   ]
  },
  {
   "cell_type": "code",
   "execution_count": null,
   "metadata": {},
   "outputs": [],
   "source": []
  }
 ],
 "metadata": {
  "kernelspec": {
   "display_name": "base",
   "language": "python",
   "name": "python3"
  },
  "language_info": {
   "codemirror_mode": {
    "name": "ipython",
    "version": 3
   },
   "file_extension": ".py",
   "mimetype": "text/x-python",
   "name": "python",
   "nbconvert_exporter": "python",
   "pygments_lexer": "ipython3",
   "version": "3.11.7"
  }
 },
 "nbformat": 4,
 "nbformat_minor": 2
}
